{
 "cells": [
  {
   "cell_type": "code",
   "execution_count": 1,
   "metadata": {},
   "outputs": [],
   "source": [
    "import requests\n",
    "from bs4 import BeautifulSoup\n",
    "import re\n",
    "from selenium import webdriver\n",
    "import time\n",
    "import sys\n",
    "sys.path.append('../modules')\n",
    "import alltrails_scrape as at\n",
    "import pickle\n",
    "import numpy as np\n",
    "import os"
   ]
  },
  {
   "cell_type": "code",
   "execution_count": 2,
   "metadata": {},
   "outputs": [],
   "source": [
    "with open('../data/countries.pickle','rb') as rf:\n",
    "    countries = pickle.load(rf)"
   ]
  },
  {
   "cell_type": "code",
   "execution_count": 3,
   "metadata": {},
   "outputs": [],
   "source": [
    "# for country in countries:\n",
    "#     os.mkdir(country)"
   ]
  },
  {
   "cell_type": "code",
   "execution_count": 4,
   "metadata": {},
   "outputs": [],
   "source": [
    "base_url = 'https://www.alltrails.com'"
   ]
  },
  {
   "cell_type": "code",
   "execution_count": 14,
   "metadata": {},
   "outputs": [
    {
     "data": {
      "text/plain": [
       "'belize'"
      ]
     },
     "execution_count": 14,
     "metadata": {},
     "output_type": "execute_result"
    }
   ],
   "source": [
    "countries[18]"
   ]
  },
  {
   "cell_type": "code",
   "execution_count": 6,
   "metadata": {},
   "outputs": [],
   "source": [
    "country = countries[18]"
   ]
  },
  {
   "cell_type": "code",
   "execution_count": 7,
   "metadata": {},
   "outputs": [],
   "source": [
    "links = at.get_links(base_url + f'/{country}',100)"
   ]
  },
  {
   "cell_type": "code",
   "execution_count": 8,
   "metadata": {},
   "outputs": [
    {
     "data": {
      "text/plain": [
       "100"
      ]
     },
     "execution_count": 8,
     "metadata": {},
     "output_type": "execute_result"
    }
   ],
   "source": [
    "len(links)"
   ]
  },
  {
   "cell_type": "code",
   "execution_count": 9,
   "metadata": {},
   "outputs": [],
   "source": [
    "# save in case you get booted out below\n",
    "with open(f'../data/{country}_links.pickle','wb') as out:\n",
    "    pickle.dump(links,out)"
   ]
  },
  {
   "cell_type": "code",
   "execution_count": 10,
   "metadata": {},
   "outputs": [
    {
     "name": "stdout",
     "output_type": "stream",
     "text": [
      "https://www.alltrails.com/trail/belgium/liege/solwaster-cascade-des-nutons?ref=result-card\n",
      "https://www.alltrails.com/trail/belgium/liege/roches-crahay-et-vallon-du-ninglinspo?ref=result-card\n",
      "https://www.alltrails.com/trail/belgium/liege/vallees-et-cretes-de-xhoffraix?ref=result-card\n",
      "https://www.alltrails.com/trail/belgium/luxembourg/rochehaut-les-echelles-et-cretes-de-frahan?ref=result-card\n",
      "https://www.alltrails.com/trail/belgium/liege/moulin-du-bayhon-et-cascade-du-bayehon-depuis-chateau-de-reinhardstein?ref=result-card\n",
      "https://www.alltrails.com/trail/belgium/luxembourg/tour-du-lac-de-nisramont?ref=result-card\n",
      "https://www.alltrails.com/trail/belgium/liege/robertville-circular?ref=result-card\n",
      "https://www.alltrails.com/trail/belgium/liege/flemalle-les-chateaux-de-chockier-et-d-aigremont?ref=result-card\n",
      "https://www.alltrails.com/trail/belgium/liege/vallee-de-la-hoegne?ref=result-card\n",
      "https://www.alltrails.com/trail/belgium/liege/ruy-neuville-et-chevrouheid?ref=result-card\n",
      "https://www.alltrails.com/trail/belgium/liege/esneux-circuit-de-la-roche-aux-faucons?ref=result-card\n",
      "https://www.alltrails.com/trail/belgium/luxembourg/la-roche-en-ardenne-et-beausaint?ref=result-card\n",
      "https://www.alltrails.com/trail/belgium/walloon-brabant/glabais-bois-de-thy?ref=result-card\n",
      "https://www.alltrails.com/trail/belgium/liege/der-canyon-des-tros-marets?ref=result-card\n",
      "https://www.alltrails.com/trail/belgium/namur/le-paradis-des-lievres?ref=result-card\n",
      "https://www.alltrails.com/trail/belgium/liege/autour-des-ruisseaux-et-bois-de-solwaster?ref=result-card\n",
      "https://www.alltrails.com/trail/belgium/liege/roches-crahay-vallon-du-ninglinspo-ville-au-bois-et-chefna?ref=result-card\n",
      "https://www.alltrails.com/trail/belgium/limburg/mechelse-heide-maasmechelen-rode-wandeling?ref=result-card\n",
      "https://www.alltrails.com/trail/belgium/liege/lac-de-la-gileppe?ref=result-card\n",
      "https://www.alltrails.com/trail/belgium/luxembourg/les-eschelles?ref=result-card\n",
      "https://www.alltrails.com/trail/belgium/luxembourg/tour-de-bouillon-point-de-l-epine-via-sentier-lamirant?ref=result-card\n",
      "https://www.alltrails.com/trail/belgium/brussels-capital/boucle-dans-la-foret-de-soignes?ref=result-card\n",
      "https://www.alltrails.com/trail/belgium/luxembourg/promenade-des-cretes-a-sy?ref=result-card\n",
      "https://www.alltrails.com/trail/belgium/namur/autour-du-parc-de-furfooz-deupis-gare-de-gendron-celles?ref=result-card\n",
      "https://www.alltrails.com/trail/belgium/wbr/trail-archennes?ref=result-card\n",
      "https://www.alltrails.com/trail/belgium/luxembourg/tour-de-crahay?ref=result-card\n",
      "https://www.alltrails.com/trail/belgium/luxembourg/balade-le-long-de-la-lesse--2?ref=result-card\n",
      "https://www.alltrails.com/trail/belgium/antwerp/rijmenam-boortmeerbeek?ref=result-card\n",
      "https://www.alltrails.com/trail/belgium/liege/reserve-naturelle-aux-roches-a-flemalle-chockier?ref=result-card\n",
      "https://www.alltrails.com/trail/belgium/liege/kasteel-reinhardstein-en-de-stuwdam-van-robertville?ref=result-card\n",
      "https://www.alltrails.com/trail/belgium/liege/comblain-au-pont-comblain-la-tour-et-xhoris?ref=result-card\n",
      "https://www.alltrails.com/trail/belgium/luxembourg/promenade-lestinale?ref=result-card\n",
      "https://www.alltrails.com/trail/belgium/luxembourg/point-de-vue-de-la-clusure-via-rue-de-la-vallee?ref=result-card\n",
      "https://www.alltrails.com/trail/belgium/liege/le-bois-de-haus-ternell?ref=result-card\n",
      "https://www.alltrails.com/trail/belgium/limburg/bokrijk--2?ref=result-card\n",
      "https://www.alltrails.com/trail/belgium/namur/boucle-de-ohey-bois-dohey-et-haltinne?ref=result-card\n",
      "https://www.alltrails.com/trail/belgium/luxembourg/champlon-et-famenne?ref=result-card\n",
      "https://www.alltrails.com/trail/belgium/liege/la-promenade-verte-de-lorce?ref=result-card\n",
      "https://www.alltrails.com/trail/belgium/hainaut/ecaussinnes-loop?ref=result-card\n",
      "https://www.alltrails.com/trail/belgium/luxembourg/gr16-sentier-de-la-semois-mortehan-membre?ref=result-card\n",
      "https://www.alltrails.com/trail/belgium/luxembourg/vielsalm-salmchateau-et-la-comte?ref=result-card\n",
      "https://www.alltrails.com/trail/belgium/liege/setay-et-herbofaye-depuis-baraque-michel?ref=result-card\n",
      "https://www.alltrails.com/trail/belgium/liege/xhoffraix-les-2-vallees?ref=result-card\n",
      "https://www.alltrails.com/trail/belgium/luxembourg/hargimont-waha-et-on-boucle?ref=result-card\n",
      "https://www.alltrails.com/trail/belgium/luxembourg/mirwart-boucle?ref=result-card\n",
      "https://www.alltrails.com/trail/belgium/luxembourg/bois-et-champs-de-heinstert?ref=result-card\n",
      "https://www.alltrails.com/trail/belgium/flemish-brabant/kasteel-van-gaasbeek-oudenaken?ref=result-card\n",
      "https://www.alltrails.com/trail/belgium/liege/fumal-promenades-des-chevreuils?ref=result-card\n",
      "https://www.alltrails.com/trail/belgium/luxembourg/sentier-lamirant-depuis-chateau-de-bouillon?ref=result-card\n",
      "https://www.alltrails.com/trail/belgium/namur/randonnee-falmignoul-bords-de-la-meuse?ref=result-card\n",
      "https://www.alltrails.com/trail/belgium/namur/marche-les-dames?ref=result-card\n",
      "https://www.alltrails.com/trail/belgium/namur/sclayn-a-la-reserve-naturelle-de-sclaigneaux?ref=result-card\n",
      "https://www.alltrails.com/trail/belgium/namur/chateau-de-montaigle-via-vallee-de-la-molignee?ref=result-card\n",
      "https://www.alltrails.com/trail/belgium/west-flanders/de-palingbeek-molenbos-zwarte-leen?ref=result-card\n",
      "https://www.alltrails.com/trail/belgium/luxembourg/fanzel-et-heyd-boucle?ref=result-card\n",
      "https://www.alltrails.com/trail/belgium/liege/fagne-wallone?ref=result-card\n",
      "https://www.alltrails.com/trail/belgium/luxembourg/lavacherie-et-aire-de-bivouac-du-golet?ref=result-card\n",
      "https://www.alltrails.com/trail/belgium/walloon-brabant/bois-de-bachet-de-labbaye-de-villers-la-ville?ref=result-card\n",
      "https://www.alltrails.com/trail/belgium/liege/boucle-de-lande-de-streupas-sart-tilman-et-angleur?ref=result-card\n",
      "https://www.alltrails.com/trail/belgium/walloon-brabant/grez-doiceau-circular-walk?ref=result-card\n",
      "https://www.alltrails.com/trail/belgium/limburg/rondje-schulensbroek-en-het-platteland?ref=result-card\n",
      "https://www.alltrails.com/trail/belgium/liege/promenade-de-hermalle?ref=result-card\n",
      "https://www.alltrails.com/trail/belgium/namur/promenade-du-chene-au-gibet?ref=result-card\n",
      "https://www.alltrails.com/trail/belgium/walloon-brabant/longueville-circular-walk?ref=result-card\n",
      "https://www.alltrails.com/trail/belgium/luxembourg/boucle-de-la-bilaude?ref=result-card\n",
      "https://www.alltrails.com/trail/belgium/limburg/boucle-de-heusden-zolder?ref=result-card\n",
      "https://www.alltrails.com/trail/belgium/namur/reserve-naturelle-de-sclaigneaux?ref=result-card\n",
      "https://www.alltrails.com/trail/belgium/liege/boucle-du-bois-de-solwaster?ref=result-card\n",
      "https://www.alltrails.com/trail/belgium/luxembourg/chemin-touristique-barvaux-et-durbuy?ref=result-card\n",
      "https://www.alltrails.com/trail/belgium/limburg/borgloon-a-manshovenstraat-boucle?ref=result-card\n",
      "https://www.alltrails.com/trail/belgium/brussels-capital/sentier-des-sables-zavelvoetpad?ref=result-card\n",
      "https://www.alltrails.com/trail/belgium/luxembourg/boucle-rochehaut-bouillon?ref=result-card\n",
      "https://www.alltrails.com/trail/belgium/luxembourg/frassem-heckbous?ref=result-card\n",
      "https://www.alltrails.com/trail/belgium/luxembourg/bomal-et-ozo-via-campagne-saint-rahi?ref=result-card\n",
      "https://www.alltrails.com/trail/belgium/liege/boucle-de-bois-de-longfaye?ref=result-card\n",
      "https://www.alltrails.com/trail/belgium/namur/boucle-de-dorinne-et-crupet?ref=result-card\n",
      "https://www.alltrails.com/trail/belgium/liege/les-ruisseaux-et-les-fleuves-de-solwaster-hoegne-sawe-statte?ref=result-card\n",
      "https://www.alltrails.com/trail/belgium/liege/circuit-de-petit-modave?ref=result-card\n",
      "https://www.alltrails.com/trail/belgium/luxembourg/durbuy-bois-du-vine-test?ref=result-card\n",
      "https://www.alltrails.com/trail/belgium/liege/la-riviere-dor-montenau?ref=result-card\n",
      "https://www.alltrails.com/trail/belgium/luxembourg/belvedere-de-bouillon-boucle?ref=result-card\n",
      "https://www.alltrails.com/trail/belgium/antwerp/malle-test?ref=result-card\n",
      "https://www.alltrails.com/trail/belgium/namur/promenade-les-cascatelles?ref=result-card\n",
      "https://www.alltrails.com/trail/belgium/luxembourg/gr57-la-roche-en-ardenne-naar-engreux?ref=result-card\n",
      "https://www.alltrails.com/trail/belgium/west-flanders/bruges-walking-tour?ref=result-card\n",
      "https://www.alltrails.com/trail/belgium/liege/circuit-bois-raquet-les-mousseux?ref=result-card\n",
      "https://www.alltrails.com/trail/belgium/liege/narzissen-wanderung-bulligen-rocherath?ref=result-card\n",
      "https://www.alltrails.com/trail/belgium/liege/boucle-de-sentier-du-facteur-et-rue-rausa?ref=result-card\n",
      "https://www.alltrails.com/trail/belgium/west-flanders/galgebossen-extended-loop?ref=result-card\n",
      "https://www.alltrails.com/trail/belgium/liege/chateau-de-reinhardstein--2?ref=result-card\n",
      "https://www.alltrails.com/trail/belgium/flemish-brabant/heverleebos-en-meerdaalbos?ref=result-card\n",
      "https://www.alltrails.com/trail/belgium/liege/aywaille-p6-chateau-dambleve?ref=result-card\n",
      "https://www.alltrails.com/trail/belgium/flemish-brabant/foret-de-soignes?ref=result-card\n",
      "https://www.alltrails.com/trail/belgium/namur/parc-de-furfooz?ref=result-card\n",
      "https://www.alltrails.com/trail/belgium/liege/das-vorzimmer-des-venns?ref=result-card\n",
      "https://www.alltrails.com/trail/belgium/luxembourg/boucle-de-durbuy-et-bohon?ref=result-card\n",
      "https://www.alltrails.com/trail/belgium/liege/le-tro-maret-beverce-circular-walk?ref=result-card\n",
      "https://www.alltrails.com/trail/belgium/liege/tavier-boucle-des-sarts?ref=result-card\n",
      "https://www.alltrails.com/trail/belgium/luxembourg/panorama-de-vinez?ref=result-card\n",
      "https://www.alltrails.com/trail/belgium/liege/trail-solieres?ref=result-card\n"
     ]
    }
   ],
   "source": [
    "hikes = []\n",
    "for link in links:\n",
    "    full_url = base_url + link\n",
    "    print(full_url)\n",
    "    hike = at.get_trail_info(full_url)\n",
    "    hikes.append(hike)"
   ]
  },
  {
   "cell_type": "code",
   "execution_count": 11,
   "metadata": {},
   "outputs": [],
   "source": [
    "# save hike info\n",
    "with open(f'../data/{country}_hikes.pickle','wb') as out:\n",
    "    pickle.dump(hikes,out)"
   ]
  },
  {
   "cell_type": "code",
   "execution_count": 12,
   "metadata": {},
   "outputs": [],
   "source": [
    "# move images to a dedicated country directory\n",
    "os.chdir('../images/')\n",
    "path = f'{country}/'\n",
    "!mv *.jpg {path}"
   ]
  },
  {
   "cell_type": "code",
   "execution_count": 13,
   "metadata": {},
   "outputs": [],
   "source": [
    "# delete the links pickle because the trail link is now in the trail's dictionary\n",
    "os.chdir('../data/')\n",
    "path = f'{country}_links.pickle'\n",
    "!rm {path}"
   ]
  },
  {
   "cell_type": "code",
   "execution_count": null,
   "metadata": {},
   "outputs": [],
   "source": []
  }
 ],
 "metadata": {
  "kernelspec": {
   "display_name": "Python 3",
   "language": "python",
   "name": "python3"
  },
  "language_info": {
   "codemirror_mode": {
    "name": "ipython",
    "version": 3
   },
   "file_extension": ".py",
   "mimetype": "text/x-python",
   "name": "python",
   "nbconvert_exporter": "python",
   "pygments_lexer": "ipython3",
   "version": "3.8.2"
  }
 },
 "nbformat": 4,
 "nbformat_minor": 4
}
