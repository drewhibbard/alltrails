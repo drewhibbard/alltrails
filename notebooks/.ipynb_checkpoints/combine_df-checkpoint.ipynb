{
 "cells": [
  {
   "cell_type": "code",
   "execution_count": 1,
   "metadata": {},
   "outputs": [],
   "source": [
    "import pandas as pd\n",
    "import os\n",
    "import pickle"
   ]
  },
  {
   "cell_type": "code",
   "execution_count": 2,
   "metadata": {},
   "outputs": [],
   "source": [
    "hike_data = []\n",
    "for file in sorted(os.listdir('../data/')):\n",
    "    if file.endswith('hikes.pickle'):\n",
    "        with open(f'../data/{file}','rb') as rf:\n",
    "            data = pickle.load(rf)\n",
    "            hike_data += data"
   ]
  },
  {
   "cell_type": "code",
   "execution_count": 3,
   "metadata": {},
   "outputs": [],
   "source": [
    "with open('../data/first_ten.pickle','rb') as rf:\n",
    "    first = pickle.load(rf)"
   ]
  },
  {
   "cell_type": "code",
   "execution_count": 4,
   "metadata": {},
   "outputs": [],
   "source": [
    "df = pd.concat([first,pd.DataFrame(hike_data)])"
   ]
  },
  {
   "cell_type": "code",
   "execution_count": 5,
   "metadata": {},
   "outputs": [
    {
     "name": "stdout",
     "output_type": "stream",
     "text": [
      "<class 'pandas.core.frame.DataFrame'>\n",
      "Int64Index: 5249 entries, 0 to 4198\n",
      "Data columns (total 13 columns):\n",
      " #   Column            Non-Null Count  Dtype  \n",
      "---  ------            --------------  -----  \n",
      " 0   trail_name        5249 non-null   object \n",
      " 1   difficulty        5249 non-null   object \n",
      " 2   star_rating       5249 non-null   float64\n",
      " 3   rating_count      5249 non-null   object \n",
      " 4   summary           5249 non-null   object \n",
      " 5   length_mi         5249 non-null   float64\n",
      " 6   elevation_change  5248 non-null   float64\n",
      " 7   route_type        5248 non-null   object \n",
      " 8   tags              5249 non-null   object \n",
      " 9   location_path     5249 non-null   object \n",
      " 10  full_description  3725 non-null   object \n",
      " 11  reviews           5249 non-null   object \n",
      " 12  link              5249 non-null   object \n",
      "dtypes: float64(3), object(10)\n",
      "memory usage: 574.1+ KB\n"
     ]
    }
   ],
   "source": [
    "df.info()"
   ]
  },
  {
   "cell_type": "code",
   "execution_count": null,
   "metadata": {},
   "outputs": [],
   "source": []
  }
 ],
 "metadata": {
  "kernelspec": {
   "display_name": "Python 3",
   "language": "python",
   "name": "python3"
  },
  "language_info": {
   "codemirror_mode": {
    "name": "ipython",
    "version": 3
   },
   "file_extension": ".py",
   "mimetype": "text/x-python",
   "name": "python",
   "nbconvert_exporter": "python",
   "pygments_lexer": "ipython3",
   "version": "3.8.2"
  }
 },
 "nbformat": 4,
 "nbformat_minor": 4
}
