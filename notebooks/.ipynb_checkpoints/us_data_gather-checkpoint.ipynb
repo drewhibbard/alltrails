{
 "cells": [
  {
   "cell_type": "code",
   "execution_count": 1,
   "metadata": {},
   "outputs": [],
   "source": [
    "import requests\n",
    "from bs4 import BeautifulSoup\n",
    "import re\n",
    "from selenium import webdriver\n",
    "import time\n",
    "import sys\n",
    "sys.path.append('../modules')\n",
    "import alltrails_scrape as at\n",
    "import pickle\n",
    "import numpy as np\n",
    "import os"
   ]
  },
  {
   "cell_type": "code",
   "execution_count": 2,
   "metadata": {},
   "outputs": [],
   "source": [
    "with open('../data/states.pickle','rb') as rf:\n",
    "    state_list = pickle.load(rf)"
   ]
  },
  {
   "cell_type": "code",
   "execution_count": 3,
   "metadata": {},
   "outputs": [],
   "source": [
    "base_url = 'https://www.alltrails.com'"
   ]
  },
  {
   "cell_type": "code",
   "execution_count": 4,
   "metadata": {},
   "outputs": [
    {
     "data": {
      "text/plain": [
       "'wyoming'"
      ]
     },
     "execution_count": 4,
     "metadata": {},
     "output_type": "execute_result"
    }
   ],
   "source": [
    "state_list[53]"
   ]
  },
  {
   "cell_type": "code",
   "execution_count": 5,
   "metadata": {},
   "outputs": [],
   "source": [
    "state = state_list[53]"
   ]
  },
  {
   "cell_type": "code",
   "execution_count": 6,
   "metadata": {},
   "outputs": [],
   "source": [
    "# go to state alltrails page and get links to n trails, using my module\n",
    "links = at.get_links(base_url + '/us/' + state,150)"
   ]
  },
  {
   "cell_type": "code",
   "execution_count": 7,
   "metadata": {},
   "outputs": [
    {
     "data": {
      "text/plain": [
       "150"
      ]
     },
     "execution_count": 7,
     "metadata": {},
     "output_type": "execute_result"
    }
   ],
   "source": [
    "len(links)"
   ]
  },
  {
   "cell_type": "code",
   "execution_count": 8,
   "metadata": {},
   "outputs": [],
   "source": [
    "# save if needed\n",
    "with open(f'../data/{state}_links.pickle','wb') as out:\n",
    "    pickle.dump(links,out)"
   ]
  },
  {
   "cell_type": "code",
   "execution_count": 9,
   "metadata": {},
   "outputs": [
    {
     "name": "stdout",
     "output_type": "stream",
     "text": [
      "https://www.alltrails.com/trail/us/wyoming/cascade-canyon-trail?ref=result-card\n",
      "https://www.alltrails.com/trail/us/wyoming/delta-lake-via-lupine-meadows-access?ref=result-card\n",
      "https://www.alltrails.com/trail/us/wyoming/taggart-lake-loop--2?ref=result-card\n",
      "https://www.alltrails.com/trail/us/wyoming/jenny-lake-trail?ref=result-card\n",
      "https://www.alltrails.com/trail/us/wyoming/grand-prismatic-hot-spring?ref=result-card\n",
      "https://www.alltrails.com/trail/us/wyoming/mystic-falls-fairy-creek-and-little-firehole-loop?ref=result-card\n",
      "https://www.alltrails.com/trail/us/wyoming/upper-geyser-basin-and-old-faithful-observation-point-loop?ref=result-card\n",
      "https://www.alltrails.com/trail/us/wyoming/surprise-and-amphitheater-lakes-trail?ref=result-card\n",
      "https://www.alltrails.com/trail/us/wyoming/hidden-falls-trail?ref=result-card\n",
      "https://www.alltrails.com/trail/us/wyoming/phelps-lake-trail?ref=result-card\n",
      "https://www.alltrails.com/trail/us/wyoming/west-thumb-geyser-basin?ref=result-card\n",
      "https://www.alltrails.com/trail/us/wyoming/bradley-lake-trail?ref=result-card\n",
      "https://www.alltrails.com/trail/us/wyoming/taggart-lake-and-bradley-lake?ref=result-card\n",
      "https://www.alltrails.com/trail/us/wyoming/table-mountain?ref=result-card\n",
      "https://www.alltrails.com/trail/us/wyoming/string-lake-trail--6?ref=result-card\n",
      "https://www.alltrails.com/trail/us/wyoming/lake-solitude-trail?ref=result-card\n",
      "https://www.alltrails.com/trail/us/wyoming/inspiration-point-via-jenny-lake-boat-shuttle?ref=result-card\n",
      "https://www.alltrails.com/trail/us/wyoming/hidden-falls-trail--2?ref=result-card\n",
      "https://www.alltrails.com/trail/us/wyoming/darby-canyon-wind-cave-trail?ref=result-card\n",
      "https://www.alltrails.com/trail/us/wyoming/fairy-falls--4?ref=result-card\n",
      "https://www.alltrails.com/trail/us/wyoming/devil-s-tower-trail--2?ref=result-card\n",
      "https://www.alltrails.com/trail/us/wyoming/medicine-bow-peak-via-lakes-trail-loop?ref=result-card\n",
      "https://www.alltrails.com/trail/us/wyoming/midway-geyser-basin-trail?ref=result-card\n",
      "https://www.alltrails.com/trail/us/wyoming/death-canyon-to-patrol-cabin?ref=result-card\n",
      "https://www.alltrails.com/trail/us/wyoming/avalanche-peak?ref=result-card\n",
      "https://www.alltrails.com/trail/us/wyoming/grand-canyon-of-the-yellowstone-north-rim?ref=result-card\n",
      "https://www.alltrails.com/trail/us/wyoming/artist-point-trail?ref=result-card\n",
      "https://www.alltrails.com/trail/us/wyoming/lake-solitude-via-lake-solitude-and-cascade-canyon-trail?ref=result-card\n",
      "https://www.alltrails.com/trail/us/wyoming/observation-point-loop-trail?ref=result-card\n",
      "https://www.alltrails.com/trail/us/wyoming/upper-falls-lower-falls-and-crystal-falls-trail?ref=result-card\n",
      "https://www.alltrails.com/trail/us/wyoming/teton-crest-trail--3?ref=result-card\n",
      "https://www.alltrails.com/trail/us/wyoming/mystic-falls--2?ref=result-card\n",
      "https://www.alltrails.com/trail/us/wyoming/garnet-canyon-trail-to-cleft-falls?ref=result-card\n",
      "https://www.alltrails.com/trail/us/wyoming/artists-paint-pots?ref=result-card\n",
      "https://www.alltrails.com/trail/us/wyoming/norris-geyser-basin-complete-loop-trail?ref=result-card\n",
      "https://www.alltrails.com/trail/us/wyoming/leigh-lake-trail?ref=result-card\n",
      "https://www.alltrails.com/trail/us/wyoming/fountain-paint-pot-trail?ref=result-card\n",
      "https://www.alltrails.com/trail/us/wyoming/brink-of-the-lower-falls?ref=result-card\n",
      "https://www.alltrails.com/trail/us/wyoming/fairy-creek-trail-to-imperial-geyser?ref=result-card\n",
      "https://www.alltrails.com/trail/us/wyoming/crow-creek-trail-to-hidden-falls?ref=result-card\n",
      "https://www.alltrails.com/trail/us/wyoming/bunsen-peak?ref=result-card\n",
      "https://www.alltrails.com/trail/us/wyoming/biscuit-basin-interpretive-trail?ref=result-card\n",
      "https://www.alltrails.com/trail/us/wyoming/colter-bay-lakeshore-trail?ref=result-card\n",
      "https://www.alltrails.com/trail/us/wyoming/red-beds-trail?ref=result-card\n",
      "https://www.alltrails.com/trail/us/wyoming/schwabachers-landing?ref=result-card\n",
      "https://www.alltrails.com/trail/us/wyoming/clear-lake-artists-point-loop-trail?ref=result-card\n",
      "https://www.alltrails.com/trail/us/wyoming/leigh-lake-trail-short-version?ref=result-card\n",
      "https://www.alltrails.com/trail/us/wyoming/big-sandy-lake-north-lake-and-arrowhead-lake?ref=result-card\n",
      "https://www.alltrails.com/trail/us/wyoming/titcomb-lakes-and-titcomb-basin-via-pole-creek-trail-seneca-lake-trail-and-indian-pass-tr?ref=result-card\n",
      "https://www.alltrails.com/trail/us/wyoming/hidden-falls-via-string-lake-trail?ref=result-card\n",
      "https://www.alltrails.com/trail/us/wyoming/mud-volcano-trail?ref=result-card\n",
      "https://www.alltrails.com/trail/us/wyoming/woodland-and-lake-creek-trail-loop?ref=result-card\n",
      "https://www.alltrails.com/trail/us/wyoming/yellowstone-natural-bridge-trail?ref=result-card\n",
      "https://www.alltrails.com/trail/us/wyoming/the-grand-teton-loop-trail?ref=result-card\n",
      "https://www.alltrails.com/trail/us/wyoming/phelps-lake-overlook?ref=result-card\n",
      "https://www.alltrails.com/trail/us/wyoming/ski-lake-trail?ref=result-card\n",
      "https://www.alltrails.com/trail/us/wyoming/paintbrush-canyon-string-lake-loop-trail-to-lake-solitude?ref=result-card\n",
      "https://www.alltrails.com/trail/us/wyoming/surprise-amphitheater-delta-lakes?ref=result-card\n",
      "https://www.alltrails.com/trail/us/wyoming/elephant-back-loop-trail?ref=result-card\n",
      "https://www.alltrails.com/trail/us/wyoming/lamar-valley-trail?ref=result-card\n",
      "https://www.alltrails.com/trail/us/wyoming/turtle-rock-loop-trail?ref=result-card\n",
      "https://www.alltrails.com/trail/us/wyoming/alaska-basin-trail?ref=result-card\n",
      "https://www.alltrails.com/trail/us/wyoming/bridle-trail?ref=result-card\n",
      "https://www.alltrails.com/trail/us/wyoming/snow-king-summit-via-slow-trail?ref=result-card\n",
      "https://www.alltrails.com/trail/us/wyoming/storm-point-loop?ref=result-card\n",
      "https://www.alltrails.com/trail/us/wyoming/black-sand-basin-loop-yellowstone-np?ref=result-card\n",
      "https://www.alltrails.com/trail/us/wyoming/bearpaw-and-trapper-lake-trail?ref=result-card\n",
      "https://www.alltrails.com/trail/us/wyoming/teton-village-wildflower-trail-to-gondola-summit?ref=result-card\n",
      "https://www.alltrails.com/trail/us/wyoming/granite-canyon-trail?ref=result-card\n",
      "https://www.alltrails.com/trail/us/wyoming/death-canyon-and-phelps-lake-loop?ref=result-card\n",
      "https://www.alltrails.com/trail/us/wyoming/trout-lake-loop?ref=result-card\n",
      "https://www.alltrails.com/trail/us/wyoming/yellowstone-lake-overlook-trail?ref=result-card\n",
      "https://www.alltrails.com/trail/us/wyoming/yellowstone-observation-point?ref=result-card\n",
      "https://www.alltrails.com/trail/us/wyoming/osprey-falls-trail?ref=result-card\n",
      "https://www.alltrails.com/trail/us/wyoming/lakes-trail-to-medicine-bow-peak-trail?ref=result-card\n",
      "https://www.alltrails.com/trail/us/wyoming/canyon-rim-south-trail-to-artist-point?ref=result-card\n",
      "https://www.alltrails.com/trail/us/wyoming/jenny-lake-loop-via-string-lake-trailhead?ref=result-card\n",
      "https://www.alltrails.com/trail/us/wyoming/mormon-rows-moulton-barn?ref=result-card\n",
      "https://www.alltrails.com/trail/us/wyoming/cirque-of-the-towers-to-fremont-trail-loop?ref=result-card\n",
      "https://www.alltrails.com/trail/us/wyoming/union-falls-trail?ref=result-card\n",
      "https://www.alltrails.com/trail/us/wyoming/lake-of-the-crags-trail?ref=result-card\n",
      "https://www.alltrails.com/trail/us/wyoming/sevenmile-hole-trail?ref=result-card\n",
      "https://www.alltrails.com/trail/us/wyoming/medicine-bow-peak-trail--2?ref=result-card\n",
      "https://www.alltrails.com/trail/us/wyoming/fairy-falls-and-imperial-geyser-loop?ref=result-card\n",
      "https://www.alltrails.com/trail/us/wyoming/moose-ponds-trail?ref=result-card\n",
      "https://www.alltrails.com/trail/us/wyoming/point-sublime-trail?ref=result-card\n",
      "https://www.alltrails.com/trail/us/wyoming/tongue-river-canyon?ref=result-card\n",
      "https://www.alltrails.com/trail/us/wyoming/gibbon-falls?ref=result-card\n",
      "https://www.alltrails.com/trail/us/wyoming/mirror-lake-and-lost-twin-lakes-trail--2?ref=result-card\n",
      "https://www.alltrails.com/trail/us/wyoming/josies-ridge-trail?ref=result-card\n",
      "https://www.alltrails.com/trail/us/wyoming/hanging-canyon-to-lake-of-the-crags?ref=result-card\n",
      "https://www.alltrails.com/trail/us/wyoming/colter-bay-hermitage-point-trail?ref=result-card\n",
      "https://www.alltrails.com/trail/us/wyoming/holly-lake-trail?ref=result-card\n",
      "https://www.alltrails.com/trail/us/wyoming/geyser-hill-loop-trail-and-observation-point?ref=result-card\n",
      "https://www.alltrails.com/trail/us/wyoming/cloud-peak?ref=result-card\n",
      "https://www.alltrails.com/trail/us/wyoming/phelps-lake--5?ref=result-card\n",
      "https://www.alltrails.com/trail/us/wyoming/middle-teton-southwest-couloir?ref=result-card\n",
      "https://www.alltrails.com/trail/us/wyoming/back-basin-trail?ref=result-card\n",
      "https://www.alltrails.com/trail/us/wyoming/brink-of-the-upper-yellowstone-falls?ref=result-card\n",
      "https://www.alltrails.com/trail/us/wyoming/holly-lake-via-leigh-lake-trail-to-paintbrush-canyon-trail?ref=result-card\n",
      "https://www.alltrails.com/trail/us/wyoming/browns-peak-loop-in-snowy-range?ref=result-card\n",
      "https://www.alltrails.com/trail/us/wyoming/signal-mountain-trail?ref=result-card\n",
      "https://www.alltrails.com/trail/us/wyoming/popo-agie-falls-trail--3?ref=result-card\n",
      "https://www.alltrails.com/trail/us/wyoming/south-gap-north-gap-and-cutthroat-lake-trail?ref=result-card\n",
      "https://www.alltrails.com/trail/us/wyoming/string-lake-accessible?ref=result-card\n",
      "https://www.alltrails.com/trail/us/wyoming/paintbrush-canyon-cascade-canyon-loop?ref=result-card\n",
      "https://www.alltrails.com/trail/us/wyoming/lakes-trail--2?ref=result-card\n",
      "https://www.alltrails.com/trail/us/wyoming/goodwin-lake-trail?ref=result-card\n",
      "https://www.alltrails.com/trail/us/wyoming/garnet-canyon-to-the-lower-saddle-trail?ref=result-card\n",
      "https://www.alltrails.com/trail/us/wyoming/static-peak-grand-teton-park?ref=result-card\n",
      "https://www.alltrails.com/trail/us/wyoming/grand-view-point-trail?ref=result-card\n",
      "https://www.alltrails.com/trail/us/wyoming/mystic-falls-geyser-basin-loop?ref=result-card\n",
      "https://www.alltrails.com/trail/us/wyoming/hellroaring-creek-to-yellowstone-river?ref=result-card\n",
      "https://www.alltrails.com/trail/us/wyoming/big-sandy-lake-via-big-sandy-trail?ref=result-card\n",
      "https://www.alltrails.com/trail/us/wyoming/swan-lake-and-heron-pond-trail?ref=result-card\n",
      "https://www.alltrails.com/trail/us/wyoming/canyon-rim-south-trail-to-point-sublime?ref=result-card\n",
      "https://www.alltrails.com/trail/us/wyoming/cirque-trail?ref=result-card\n",
      "https://www.alltrails.com/trail/us/wyoming/porcelain-basin-trail?ref=result-card\n",
      "https://www.alltrails.com/trail/us/wyoming/porcupine-falls-trail?ref=result-card\n",
      "https://www.alltrails.com/trail/us/wyoming/bradley-and-taggart-lakes-via-lupine-meadows?ref=result-card\n",
      "https://www.alltrails.com/trail/us/wyoming/sacred-rim?ref=result-card\n",
      "https://www.alltrails.com/trail/us/wyoming/norris-geyser-basin--3?ref=result-card\n",
      "https://www.alltrails.com/trail/us/wyoming/solitary-geyser?ref=result-card\n",
      "https://www.alltrails.com/trail/us/wyoming/slough-creek?ref=result-card\n",
      "https://www.alltrails.com/trail/us/wyoming/fremont-peak-via-pole-creek-trail-loop?ref=result-card\n",
      "https://www.alltrails.com/trail/us/wyoming/sheep-mountain?ref=result-card\n",
      "https://www.alltrails.com/trail/us/wyoming/island-lake-trail?ref=result-card\n",
      "https://www.alltrails.com/trail/us/wyoming/crater-lake-trail?ref=result-card\n",
      "https://www.alltrails.com/trail/us/wyoming/lewis-lake-south-gap-lake-and-snowy-mountains-trail?ref=result-card\n",
      "https://www.alltrails.com/trail/us/wyoming/lily-pad-lake-via-artists-point?ref=result-card\n",
      "https://www.alltrails.com/trail/us/wyoming/cache-creek-and-hagens-trail-loop?ref=result-card\n",
      "https://www.alltrails.com/trail/us/wyoming/wraith-falls?ref=result-card\n",
      "https://www.alltrails.com/trail/us/wyoming/vedauwoo-trail?ref=result-card\n",
      "https://www.alltrails.com/trail/us/wyoming/death-canyon-loop?ref=result-card\n",
      "https://www.alltrails.com/trail/us/wyoming/cascade-creek-trail-to-terraced-falls?ref=result-card\n",
      "https://www.alltrails.com/trail/us/wyoming/coal-creek-meadows?ref=result-card\n",
      "https://www.alltrails.com/trail/us/wyoming/old-faithful-to-madison-junction?ref=result-card\n",
      "https://www.alltrails.com/trail/us/wyoming/lost-lake-loop-trail?ref=result-card\n",
      "https://www.alltrails.com/trail/us/wyoming/brink-of-lower-falls-via-north-rim-trail?ref=result-card\n",
      "https://www.alltrails.com/trail/us/wyoming/two-ocean-lake-trail?ref=result-card\n",
      "https://www.alltrails.com/trail/us/wyoming/freds-mountain-via-bannock-trail?ref=result-card\n",
      "https://www.alltrails.com/trail/us/wyoming/grand-teton-national-park-road-trip?ref=result-card\n",
      "https://www.alltrails.com/trail/us/wyoming/lewis-river-channel-loop?ref=result-card\n",
      "https://www.alltrails.com/trail/us/wyoming/silas-lakes-trail?ref=result-card\n",
      "https://www.alltrails.com/trail/us/wyoming/ribbon-lake-trail?ref=result-card\n",
      "https://www.alltrails.com/trail/us/wyoming/gannett-peak-wyoming-highpoint?ref=result-card\n",
      "https://www.alltrails.com/trail/us/wyoming/moose-falls?ref=result-card\n",
      "https://www.alltrails.com/trail/us/wyoming/periodic-spring-trail?ref=result-card\n",
      "https://www.alltrails.com/trail/us/wyoming/yellowstone-river-picnic-area-loop-trail?ref=result-card\n",
      "https://www.alltrails.com/trail/us/wyoming/glory-peak?ref=result-card\n"
     ]
    }
   ],
   "source": [
    "# use module to get info from each trail site, results in list of dictionaries for \n",
    "# easy convert to dataframe\n",
    "hikes = []\n",
    "for link in links:\n",
    "    full_url = base_url + link\n",
    "    hike = at.get_trail_info(full_url)\n",
    "    hikes.append(hike)\n",
    "    print(full_url)"
   ]
  },
  {
   "cell_type": "code",
   "execution_count": 10,
   "metadata": {},
   "outputs": [],
   "source": [
    "# save hike info\n",
    "with open(f'../data/{state}_hikes.pickle','wb') as out:\n",
    "    pickle.dump(hikes,out)"
   ]
  },
  {
   "cell_type": "code",
   "execution_count": 11,
   "metadata": {},
   "outputs": [],
   "source": [
    "# move images to a dedicated state directory\n",
    "os.chdir('../images/')\n",
    "path = f'{state}/'\n",
    "!mv *.jpg {path}"
   ]
  },
  {
   "cell_type": "code",
   "execution_count": 12,
   "metadata": {},
   "outputs": [],
   "source": [
    "# delete the links pickle because the link is saved in the trail's dictionary\n",
    "os.chdir('../data/')\n",
    "path = f'{state}_links.pickle'\n",
    "!rm {path}"
   ]
  },
  {
   "cell_type": "code",
   "execution_count": null,
   "metadata": {},
   "outputs": [],
   "source": []
  }
 ],
 "metadata": {
  "kernelspec": {
   "display_name": "Python 3",
   "language": "python",
   "name": "python3"
  },
  "language_info": {
   "codemirror_mode": {
    "name": "ipython",
    "version": 3
   },
   "file_extension": ".py",
   "mimetype": "text/x-python",
   "name": "python",
   "nbconvert_exporter": "python",
   "pygments_lexer": "ipython3",
   "version": "3.8.2"
  }
 },
 "nbformat": 4,
 "nbformat_minor": 4
}
