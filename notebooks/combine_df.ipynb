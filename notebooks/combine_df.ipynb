{
 "cells": [
  {
   "cell_type": "code",
   "execution_count": 2,
   "metadata": {},
   "outputs": [],
   "source": [
    "import pandas as pd\n",
    "import os\n",
    "import pickle"
   ]
  },
  {
   "cell_type": "code",
   "execution_count": 4,
   "metadata": {},
   "outputs": [],
   "source": [
    "hike_data = []\n",
    "for file in sorted(os.listdir('../data/')):\n",
    "    if file.endswith('hikes.pickle'):\n",
    "        with open(f'../data/{file}','rb') as rf:\n",
    "            data = pickle.load(rf)\n",
    "            hike_data += data"
   ]
  },
  {
   "cell_type": "code",
   "execution_count": 6,
   "metadata": {},
   "outputs": [],
   "source": [
    "with open('../data/first_ten.pickle','rb') as rf:\n",
    "    first = pickle.load(rf)"
   ]
  },
  {
   "cell_type": "code",
   "execution_count": 8,
   "metadata": {},
   "outputs": [],
   "source": [
    "df = pd.concat([first,pd.DataFrame(hike_data)])"
   ]
  },
  {
   "cell_type": "code",
   "execution_count": 10,
   "metadata": {},
   "outputs": [
    {
     "output_type": "stream",
     "name": "stdout",
     "text": [
      "<class 'pandas.core.frame.DataFrame'>\nInt64Index: 13705 entries, 0 to 12654\nData columns (total 13 columns):\n #   Column            Non-Null Count  Dtype  \n---  ------            --------------  -----  \n 0   trail_name        13705 non-null  object \n 1   difficulty        13702 non-null  object \n 2   star_rating       13702 non-null  float64\n 3   rating_count      13673 non-null  object \n 4   summary           13702 non-null  object \n 5   length_mi         13702 non-null  float64\n 6   elevation_change  13701 non-null  float64\n 7   route_type        13701 non-null  object \n 8   tags              13705 non-null  object \n 9   location_path     13705 non-null  object \n 10  full_description  8703 non-null   object \n 11  reviews           13705 non-null  object \n 12  link              13705 non-null  object \ndtypes: float64(3), object(10)\nmemory usage: 1.5+ MB\n"
     ]
    }
   ],
   "source": [
    "df.info()"
   ]
  },
  {
   "cell_type": "code",
   "execution_count": null,
   "metadata": {},
   "outputs": [],
   "source": []
  }
 ],
 "metadata": {
  "kernelspec": {
   "display_name": "Python 3",
   "language": "python",
   "name": "python3"
  },
  "language_info": {
   "codemirror_mode": {
    "name": "ipython",
    "version": 3
   },
   "file_extension": ".py",
   "mimetype": "text/x-python",
   "name": "python",
   "nbconvert_exporter": "python",
   "pygments_lexer": "ipython3",
   "version": "3.8.5-final"
  }
 },
 "nbformat": 4,
 "nbformat_minor": 4
}