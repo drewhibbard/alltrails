{
 "cells": [
  {
   "cell_type": "code",
   "execution_count": 17,
   "metadata": {},
   "outputs": [],
   "source": [
    "import requests\n",
    "from bs4 import BeautifulSoup\n",
    "import re\n",
    "from selenium import webdriver\n",
    "import time\n",
    "import sys\n",
    "sys.path.append('../modules')\n",
    "import alltrails_scrape as at\n",
    "import pickle\n",
    "import numpy as np\n",
    "import os"
   ]
  },
  {
   "cell_type": "code",
   "execution_count": 18,
   "metadata": {},
   "outputs": [],
   "source": [
    "with open('../data/countries.pickle','rb') as rf:\n",
    "    countries = pickle.load(rf)"
   ]
  },
  {
   "cell_type": "code",
   "execution_count": 19,
   "metadata": {},
   "outputs": [],
   "source": [
    "# for country in countries:\n",
    "#     os.mkdir(country)"
   ]
  },
  {
   "cell_type": "code",
   "execution_count": 20,
   "metadata": {},
   "outputs": [],
   "source": [
    "base_url = 'https://www.alltrails.com'"
   ]
  },
  {
   "cell_type": "code",
   "execution_count": 21,
   "metadata": {},
   "outputs": [
    {
     "output_type": "execute_result",
     "data": {
      "text/plain": [
       "'wales'"
      ]
     },
     "metadata": {},
     "execution_count": 21
    }
   ],
   "source": [
    "countries[198]"
   ]
  },
  {
   "cell_type": "code",
   "execution_count": 22,
   "metadata": {},
   "outputs": [],
   "source": [
    "country = countries[198]"
   ]
  },
  {
   "cell_type": "code",
   "execution_count": 23,
   "metadata": {},
   "outputs": [],
   "source": [
    "links = at.get_links(base_url + f'/{country}',100)"
   ]
  },
  {
   "cell_type": "code",
   "execution_count": 24,
   "metadata": {},
   "outputs": [
    {
     "output_type": "execute_result",
     "data": {
      "text/plain": [
       "100"
      ]
     },
     "metadata": {},
     "execution_count": 24
    }
   ],
   "source": [
    "len(links)"
   ]
  },
  {
   "cell_type": "code",
   "execution_count": 25,
   "metadata": {},
   "outputs": [],
   "source": [
    "# save in case you get booted out below\n",
    "with open(f'../data/{country}_links.pickle','wb') as out:\n",
    "    pickle.dump(links,out)"
   ]
  },
  {
   "cell_type": "code",
   "execution_count": 26,
   "metadata": {
    "tags": []
   },
   "outputs": [
    {
     "output_type": "stream",
     "name": "stdout",
     "text": [
      "https://www.alltrails.com/trail/wales/gwynedd/snowdon-via-miners-track-and-pyg-track?ref=result-card\n",
      "https://www.alltrails.com/trail/wales/gwynedd/snowdon-via-llanberis-path?ref=result-card\n",
      "https://www.alltrails.com/trail/wales/powys/pen-y-fan-circular-walk?ref=result-card\n",
      "https://www.alltrails.com/trail/wales/powys/four-falls-walk?ref=result-card\n",
      "https://www.alltrails.com/trail/wales/powys/pen-y-fan-from-a470?ref=result-card\n",
      "https://www.alltrails.com/trail/wales/powys/cadair-idris-circular-walk?ref=result-card\n",
      "https://www.alltrails.com/trail/wales/powys/lilyn-y-fan-fach-and-llyn-y-fan-fawr-circular-walk?ref=result-card\n",
      "https://www.alltrails.com/trail/wales/gwynedd/mount-snowdon-via-miners-track?ref=result-card\n",
      "https://www.alltrails.com/trail/wales/gwynedd/llyn-idwal-trail?ref=result-card\n",
      "https://www.alltrails.com/trail/wales/neath-port-talbot/pontneddfechan-waterfalls-walk?ref=result-card\n",
      "https://www.alltrails.com/trail/wales/conwy/glyder-fawr-glyder-fach-circuit?ref=result-card\n",
      "https://www.alltrails.com/trail/wales/gwynedd/snowdon-via-pyg-track?ref=result-card\n",
      "https://www.alltrails.com/trail/wales/powys/brecon-beacons-4-peak-treker-trail?ref=result-card\n",
      "https://www.alltrails.com/trail/wales/gwynedd/snowdon-horseshoe?ref=result-card\n",
      "https://www.alltrails.com/trail/wales/gwynedd/snowdon-via-watkin-path?ref=result-card\n",
      "https://www.alltrails.com/trail/wales/gwynedd/cader-idris-via-minffordd-path?ref=result-card\n",
      "https://www.alltrails.com/trail/wales/conwy/daear-ddu-moel-siabod-scramble?ref=result-card\n",
      "https://www.alltrails.com/trail/wales/powys/corn-du-and-pen-y-fan-circular-walk?ref=result-card\n",
      "https://www.alltrails.com/trail/wales/neath-port-talbot/porth-yr-ogof-waterfall-circular?ref=result-card\n",
      "https://www.alltrails.com/trail/wales/gwynedd/snowdon-via-miners-track-and-crib-goch?ref=result-card\n",
      "https://www.alltrails.com/trail/wales/conwy/carnedd-dafydd-and-llewelyn-circular-walk?ref=result-card\n",
      "https://www.alltrails.com/trail/wales/neath-port-talbot/sgwd-gwladus-and-pont-melin-fach-falls?ref=result-card\n",
      "https://www.alltrails.com/trail/wales/monmouthshire/sugar-loaf-circular-walk?ref=result-card\n",
      "https://www.alltrails.com/trail/wales/conwy/betws-y-coed?ref=result-card\n",
      "https://www.alltrails.com/trail/wales/conwy/tryfan-via-north-ridge?ref=result-card\n",
      "https://www.alltrails.com/trail/wales/flintshire/moel-fammau-circular?ref=result-card\n",
      "https://www.alltrails.com/trail/wales/gwynedd/snowdon-and-llanberis-tracks?ref=result-card\n",
      "https://www.alltrails.com/trail/wales/conwy/gwydir-forest-and-llyn-geirionydd-from-betws-y-coed?ref=result-card\n",
      "https://www.alltrails.com/trail/wales/monmouthshire/the-beacons-way?ref=result-card\n",
      "https://www.alltrails.com/trail/wales/conwy/y-garn-via-devils-kitchen?ref=result-card\n",
      "https://www.alltrails.com/trail/wales/pembrokeshire/broadhaven-to-newgale-walk?ref=result-card\n",
      "https://www.alltrails.com/trail/wales/conwy/conwy-mountain-north-wales?ref=result-card\n",
      "https://www.alltrails.com/trail/wales/powys/dragons-back-and-waun-fach?ref=result-card\n",
      "https://www.alltrails.com/trail/wales/gwynedd/aber-falls-walk?ref=result-card\n",
      "https://www.alltrails.com/trail/wales/conwy/aber-falls-circular-walk?ref=result-card\n",
      "https://www.alltrails.com/trail/wales/pembrokeshire/st-davids-peninsula-circular-walk?ref=result-card\n",
      "https://www.alltrails.com/trail/wales/monmouthshire/lancaut-walk-via-river-wye?ref=result-card\n",
      "https://www.alltrails.com/trail/wales/gwynedd/snowdon-horseshoe-walk?ref=result-card\n",
      "https://www.alltrails.com/trail/wales/swansea/worms-head-trail?ref=result-card\n",
      "https://www.alltrails.com/trail/wales/pembrokeshire/pembrokeshire-coast-path-martins-haven-to-broad-haven?ref=result-card\n",
      "https://www.alltrails.com/trail/wales/conwy/swallow-falls?ref=result-card\n",
      "https://www.alltrails.com/trail/wales/gwynedd/precipice-walk?ref=result-card\n",
      "https://www.alltrails.com/trail/wales/denbighshire/castell-dinas-bran?ref=result-card\n",
      "https://www.alltrails.com/trail/wales/merthyr-tydfil/brecon-beacon-horseshoe?ref=result-card\n",
      "https://www.alltrails.com/trail/wales/gwynedd/cadair-idris-via-the-pony-path?ref=result-card\n",
      "https://www.alltrails.com/trail/wales/conwy/llyn-elsi?ref=result-card\n",
      "https://www.alltrails.com/trail/wales/gwynedd/crib-goch-walk?ref=result-card\n",
      "https://www.alltrails.com/trail/wales/gwynedd/llyn-padarn-circular-walk?ref=result-card\n",
      "https://www.alltrails.com/trail/wales/powys/brecon-horseshoe?ref=result-card\n",
      "https://www.alltrails.com/trail/wales/ceredigion/ceredigion-coast-path-aberystwyth-to-ynyslas?ref=result-card\n",
      "https://www.alltrails.com/trail/wales/gwynedd/fishermans-path-and-cwm-bychan?ref=result-card\n",
      "https://www.alltrails.com/trail/wales/conwy/y-garn-glyder-fawr-castell-y-gwynt-and-glyder-fach-circular-walk?ref=result-card\n",
      "https://www.alltrails.com/trail/wales/gwynedd/nantlle-ridge?ref=result-card\n",
      "https://www.alltrails.com/trail/wales/powys/pen-y-fan--2?ref=result-card\n",
      "https://www.alltrails.com/trail/wales/conwy/snowdon-ultra-50?ref=result-card\n",
      "https://www.alltrails.com/trail/wales/monmouthshire/river-wye-valley-circular?ref=result-card\n",
      "https://www.alltrails.com/trail/wales/rhondda/sgwd-yr-elra-falls-from-penderyn?ref=result-card\n",
      "https://www.alltrails.com/trail/wales/monmouthshire/the-skirrid?ref=result-card\n",
      "https://www.alltrails.com/trail/wales/ynys-mon/newborough-beach-and-llanddwyn-island?ref=result-card\n",
      "https://www.alltrails.com/trail/wales/pembrokeshire/stackpole-quay-and-bosherston-lakes?ref=result-card\n",
      "https://www.alltrails.com/trail/wales/gwynedd/snowdon-via-rhyd-ddu-path--2?ref=result-card\n",
      "https://www.alltrails.com/trail/wales/denbighshire/sun-bank-halt-to-llangollen-via-river-dee?ref=result-card\n",
      "https://www.alltrails.com/trail/wales/monmouthshire/wye-valley-and-offas-dyke-tintern-to-monmouth?ref=result-card\n",
      "https://www.alltrails.com/trail/wales/pembrokeshire/pembrokeshire-coast-path-amroth-to-tenby?ref=result-card\n",
      "https://www.alltrails.com/trail/wales/gwynedd/mawddach-trail?ref=result-card\n",
      "https://www.alltrails.com/trail/wales/flintshire/penycloddiau-and-moel-arthur-hill-fort?ref=result-card\n",
      "https://www.alltrails.com/trail/wales/pembrokeshire/pembrokeshire-coast-path-solva-to-whitesands-bay?ref=result-card\n",
      "https://www.alltrails.com/trail/wales/gwynedd/rhinog-fawr?ref=result-card\n",
      "https://www.alltrails.com/trail/wales/monmouthshire/tintern-abbey-devils-pulpit?ref=result-card\n",
      "https://www.alltrails.com/trail/wales/gwynedd/llwybr-watkin-and-gerddi-rhandir-circular-walk?ref=result-card\n",
      "https://www.alltrails.com/trail/wales/monmouthshire/sugarloaf-mountain?ref=result-card\n",
      "https://www.alltrails.com/trail/wales/caerphilly/caerphilly-mountain-circular?ref=result-card\n",
      "https://www.alltrails.com/trail/wales/powys/crickhow-skyline-circular?ref=result-card\n",
      "https://www.alltrails.com/trail/wales/powys/the-big-gap-brecon-beacons-mtb-circular?ref=result-card\n",
      "https://www.alltrails.com/trail/wales/powys/llyn-y-fan-and-fawr-llyn-y-fan-fach?ref=result-card\n",
      "https://www.alltrails.com/trail/wales/pembrokeshire/pembrokeshire-coast-path-whitesands-to-abercastle?ref=result-card\n",
      "https://www.alltrails.com/trail/wales/monmouthshire/devils-pulpit-via-tintern-old-station-circular-walk?ref=result-card\n",
      "https://www.alltrails.com/trail/wales/pembrokeshire/dinas-island?ref=result-card\n",
      "https://www.alltrails.com/trail/wales/carmarthenshire/carmarthen-fans?ref=result-card\n",
      "https://www.alltrails.com/trail/wales/gwynedd/elidir-fawr-and-y-garn-circular-walk?ref=result-card\n",
      "https://www.alltrails.com/trail/wales/pembrokeshire/pembrokeshire-coast-path-freshwater-east-and-freshwater-west?ref=result-card\n",
      "https://www.alltrails.com/trail/wales/pembrokeshire/pembrokeshire-coast-path-green-bridge-to-saundersfoot?ref=result-card\n",
      "https://www.alltrails.com/trail/wales/powys/aran-fawddwy-circular-route-from-south?ref=result-card\n",
      "https://www.alltrails.com/trail/wales/powys/powis-castle-and-the-montgomery-canal?ref=result-card\n",
      "https://www.alltrails.com/trail/wales/pembrokeshire/dale-circular-walk?ref=result-card\n",
      "https://www.alltrails.com/trail/wales/pembrokeshire/pembrokeshire-coast-path-saint-ishmaels-to-martins-haven?ref=result-card\n",
      "https://www.alltrails.com/trail/wales/monmouthshire/offas-dyke-path--2?ref=result-card\n",
      "https://www.alltrails.com/trail/wales/conwy/llyn-crafnant?ref=result-card\n",
      "https://www.alltrails.com/trail/wales/caerphilly/twrch-mountain-biking-trail?ref=result-card\n",
      "https://www.alltrails.com/trail/wales/gwynedd/moel-eilio?ref=result-card\n",
      "https://www.alltrails.com/trail/wales/gwynedd/snowdon-via-south-ridge-path?ref=result-card\n",
      "https://www.alltrails.com/trail/wales/wrexham/trefor-to-llangollen-circular?ref=result-card\n",
      "https://www.alltrails.com/trail/wales/monmouthshire/offas-dyke-path-chepstow-to-redbrook?ref=result-card\n",
      "https://www.alltrails.com/trail/wales/powys/beacons-circuit-to-lower-neaudd-reservoir?ref=result-card\n",
      "https://www.alltrails.com/trail/wales/gwynedd/porthmadog-to-criccieth-castle?ref=result-card\n",
      "https://www.alltrails.com/trail/wales/torfaen/llandegfedd-reservoir-trail?ref=result-card\n",
      "https://www.alltrails.com/trail/wales/powys/blaen-y-glyn-uchaf-wellington-bomber-memorial-loop?ref=result-card\n",
      "https://www.alltrails.com/trail/wales/conwy/great-orme-llandudno?ref=result-card\n",
      "https://www.alltrails.com/trail/wales/gwynedd/arenig-fawr-and-moel-llyfnant-circular-walk?ref=result-card\n",
      "https://www.alltrails.com/trail/wales/powys/four-beacons-north-loop?ref=result-card\n"
     ]
    }
   ],
   "source": [
    "hikes = []\n",
    "for link in links:\n",
    "    full_url = base_url + link\n",
    "    print(full_url)\n",
    "    hike = at.get_trail_info(full_url)\n",
    "    hikes.append(hike)"
   ]
  },
  {
   "cell_type": "code",
   "execution_count": 27,
   "metadata": {},
   "outputs": [],
   "source": [
    "# save hike info\n",
    "with open(f'../data/{country}_hikes.pickle','wb') as out:\n",
    "    pickle.dump(hikes,out)"
   ]
  },
  {
   "cell_type": "code",
   "execution_count": 28,
   "metadata": {},
   "outputs": [],
   "source": [
    "# move images to a dedicated country directory\n",
    "os.chdir('../images/')\n",
    "path = f'{country}/'\n",
    "!mv *.jpg {path}"
   ]
  },
  {
   "cell_type": "code",
   "execution_count": 29,
   "metadata": {},
   "outputs": [],
   "source": [
    "# delete the links pickle because the trail link is now in the trail's dictionary\n",
    "os.chdir('../data/')\n",
    "path = f'{country}_links.pickle'\n",
    "!rm {path}"
   ]
  },
  {
   "cell_type": "code",
   "execution_count": 30,
   "metadata": {},
   "outputs": [],
   "source": [
    "# delete files if there were no trails\n",
    "if len(links) == 0:\n",
    "    os.chdir('../images/')\n",
    "    path = f'{country}/'\n",
    "    !rm -r {path}\n",
    "\n",
    "    os.chdir('../data/')\n",
    "    path = f'{country}_hikes.pickle'\n",
    "    !rm {path}"
   ]
  },
  {
   "cell_type": "code",
   "execution_count": null,
   "metadata": {},
   "outputs": [],
   "source": []
  }
 ],
 "metadata": {
  "kernelspec": {
   "display_name": "Python 3",
   "language": "python",
   "name": "python3"
  },
  "language_info": {
   "codemirror_mode": {
    "name": "ipython",
    "version": 3
   },
   "file_extension": ".py",
   "mimetype": "text/x-python",
   "name": "python",
   "nbconvert_exporter": "python",
   "pygments_lexer": "ipython3",
   "version": "3.8.5-final"
  }
 },
 "nbformat": 4,
 "nbformat_minor": 4
}